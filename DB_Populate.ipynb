{
 "cells": [
  {
   "cell_type": "markdown",
   "id": "858619f8",
   "metadata": {},
   "source": [
    "# Install these libraries first if you haven't already [pandas, pyodbc, and sqlalchemy]"
   ]
  },
  {
   "cell_type": "code",
   "execution_count": 1,
   "id": "00796c9e",
   "metadata": {},
   "outputs": [],
   "source": [
    "# !pip install pandas pyodbc sqlalchemy"
   ]
  },
  {
   "cell_type": "code",
   "execution_count": 2,
   "id": "66e21095",
   "metadata": {},
   "outputs": [],
   "source": [
    "import warnings\n",
    "\n",
    "# Ignore all warnings\n",
    "warnings.filterwarnings(\"ignore\")\n",
    "\n",
    "\n",
    "# # Reset warnings to default behavior\n",
    "# warnings.resetwarnings()\n"
   ]
  },
  {
   "cell_type": "markdown",
   "id": "4fe18ee5",
   "metadata": {},
   "source": [
    "# Connect to MS SQL Server and Create a Database"
   ]
  },
  {
   "cell_type": "code",
   "execution_count": 3,
   "id": "1497af8e",
   "metadata": {},
   "outputs": [
    {
     "name": "stdout",
     "output_type": "stream",
     "text": [
      "The database 'SQLTestOne' has been created.\n"
     ]
    }
   ],
   "source": [
    "import pyodbc\n",
    "\n",
    "# Connection parameters\n",
    "server = 'DESKTOP-89C0DB2'\n",
    "database = 'master'  # or any other existing database where you want to check/create a new database\n",
    "username = ''\n",
    "password = ''\n",
    "driver = '{SQL Server}'\n",
    "\n",
    "# Create a connection to the server\n",
    "conn_str = f'DRIVER={driver};SERVER={server};DATABASE={database};UID={username};PWD={password}'\n",
    "conn = pyodbc.connect(conn_str, autocommit=True)  # Set autocommit to True\n",
    "\n",
    "# Create a cursor to execute SQL queries\n",
    "cursor = conn.cursor()\n",
    "\n",
    "# Define the new database name\n",
    "new_db_name = 'SQLTestOne'\n",
    "\n",
    "# Check if the database already exists\n",
    "cursor.execute(f\"SELECT database_id FROM sys.databases WHERE name = '{new_db_name}'\")\n",
    "existing_database = cursor.fetchone()\n",
    "\n",
    "if existing_database:\n",
    "    print(f\"The database '{new_db_name}' already exists.\")\n",
    "else:\n",
    "    # Create a new database\n",
    "    cursor.execute(f'CREATE DATABASE {new_db_name}')\n",
    "    print(f\"The database '{new_db_name}' has been created.\")\n",
    "\n",
    "# No need to commit when autocommit is set to True\n",
    "\n",
    "# Close the cursor and connection\n",
    "cursor.close()\n",
    "conn.close()\n"
   ]
  },
  {
   "cell_type": "markdown",
   "id": "55e96c38",
   "metadata": {},
   "source": [
    "# Connect to the Newly Created Database and Create a Table"
   ]
  },
  {
   "cell_type": "code",
   "execution_count": 4,
   "id": "eed01f41",
   "metadata": {},
   "outputs": [
    {
     "name": "stdout",
     "output_type": "stream",
     "text": [
      "Table created successfully!\n"
     ]
    }
   ],
   "source": [
    "# Connect to the newly created database\n",
    "new_db_conn_str = f'DRIVER={driver};SERVER={server};DATABASE={new_db_name};UID={username};PWD={password}'\n",
    "\n",
    "try:\n",
    "    new_db_conn = pyodbc.connect(new_db_conn_str)\n",
    "    new_db_cursor = new_db_conn.cursor()\n",
    "\n",
    "    # Define table name and columns\n",
    "    table_name = 'YourTable'\n",
    "    columns = [('ID', 'INT'), ('Name', 'VARCHAR(255)'), ('Age', 'INT')]\n",
    "\n",
    "    # Create a table\n",
    "    create_table_query = f'CREATE TABLE {table_name} ({\", \".join([f\"{col[0]} {col[1]}\" for col in columns])})'\n",
    "    new_db_cursor.execute(create_table_query)\n",
    "\n",
    "    # Commit the transaction\n",
    "    new_db_conn.commit()\n",
    "\n",
    "    print(\"Table created successfully!\")\n",
    "\n",
    "except Exception as e:\n",
    "    print(f\"Error: {str(e)}\")\n",
    "\n",
    "finally:\n",
    "    # Close the cursor and connection in the finally block to ensure they are closed even if an exception occurs\n",
    "    try:\n",
    "        new_db_cursor.close()\n",
    "        new_db_conn.close()\n",
    "    except:\n",
    "        pass\n"
   ]
  },
  {
   "cell_type": "markdown",
   "id": "95ee95ab",
   "metadata": {},
   "source": [
    "# Insert Data into the Table"
   ]
  },
  {
   "cell_type": "code",
   "execution_count": 5,
   "id": "6beff2d7",
   "metadata": {},
   "outputs": [
    {
     "name": "stdout",
     "output_type": "stream",
     "text": [
      "Data inserted successfully!\n"
     ]
    }
   ],
   "source": [
    "# Connect to the database\n",
    "try:\n",
    "    new_db_conn = pyodbc.connect(new_db_conn_str)\n",
    "    new_db_cursor = new_db_conn.cursor()\n",
    "\n",
    "    # Define table name and data to insert\n",
    "    table_name = 'YourTable'\n",
    "    data_to_insert = [(1, 'John Doe', 25), (2, 'Jane Smith', 30), (3, 'Bob Johnson', 22)]\n",
    "\n",
    "    # Insert data into the table\n",
    "    insert_query = f\"INSERT INTO {table_name} (ID, Name, Age) VALUES (?, ?, ?)\"\n",
    "    new_db_cursor.executemany(insert_query, data_to_insert)\n",
    "\n",
    "    # Commit the transaction\n",
    "    new_db_conn.commit()\n",
    "\n",
    "    print(\"Data inserted successfully!\")\n",
    "\n",
    "except Exception as e:\n",
    "    print(f\"Error: {str(e)}\")\n",
    "\n",
    "finally:\n",
    "    # Close the cursor and connection in the finally block to ensure they are closed even if an exception occurs\n",
    "    try:\n",
    "        new_db_cursor.close()\n",
    "        new_db_conn.close()\n",
    "    except:\n",
    "        pass\n"
   ]
  },
  {
   "cell_type": "markdown",
   "id": "9a518116",
   "metadata": {},
   "source": [
    "# CRUD Data and View as Pandas DataFrame"
   ]
  },
  {
   "cell_type": "code",
   "execution_count": 6,
   "id": "b7e7a45a",
   "metadata": {},
   "outputs": [
    {
     "name": "stdout",
     "output_type": "stream",
     "text": [
      "Data read successfully!\n",
      "--------------------------------------------\n",
      "   ID         Name  Age\n",
      "0   1     John Doe   25\n",
      "1   2   Jane Smith   30\n",
      "2   3  Bob Johnson   22\n"
     ]
    }
   ],
   "source": [
    "import pandas as pd\n",
    "\n",
    "# Connect to the database\n",
    "try:\n",
    "    new_db_conn = pyodbc.connect(new_db_conn_str)\n",
    "    new_db_cursor = new_db_conn.cursor()\n",
    "\n",
    "    # CRUD operations\n",
    "    # ... (perform your CRUD operations using SQL queries)\n",
    "\n",
    "    # Read data into a Pandas DataFrame\n",
    "    select_query = f\"SELECT * FROM {table_name}\"\n",
    "    data_df = pd.read_sql(select_query, new_db_conn)\n",
    "\n",
    "    # Display the DataFrame\n",
    "    print(\"Data read successfully!\")\n",
    "    print(\"--------------------------------------------\")\n",
    "    print(data_df)\n",
    "\n",
    "    \n",
    "\n",
    "except Exception as e:\n",
    "    print(f\"Error: {str(e)}\")\n",
    "\n",
    "finally:\n",
    "    # Close the cursor and connection in the finally block to ensure they are closed even if an exception occurs\n",
    "    try:\n",
    "        new_db_cursor.close()\n",
    "        new_db_conn.close()\n",
    "    except:\n",
    "        pass\n"
   ]
  },
  {
   "cell_type": "markdown",
   "id": "5198f128",
   "metadata": {},
   "source": [
    "# SQL Problems Handbook"
   ]
  },
  {
   "cell_type": "markdown",
   "id": "6e29025f",
   "metadata": {},
   "source": [
    "Connect to MS SQL Server"
   ]
  },
  {
   "cell_type": "code",
   "execution_count": 7,
   "id": "b4415281",
   "metadata": {},
   "outputs": [
    {
     "name": "stdout",
     "output_type": "stream",
     "text": [
      "Created ECommerceDB Successfully!\n"
     ]
    }
   ],
   "source": [
    "import pyodbc\n",
    "\n",
    "# Connection parameters\n",
    "server = 'DESKTOP-89C0DB2'\n",
    "database = 'master'  # Use the master database to create a new database\n",
    "username = ''  # Update with your username\n",
    "password = ''  # Update with your password\n",
    "driver = '{SQL Server}'\n",
    "\n",
    "# Establishing the connection to the master database\n",
    "conn_str = f'DRIVER={driver};SERVER={server};DATABASE={database};UID={username};PWD={password}'\n",
    "conn = pyodbc.connect(conn_str)\n",
    "cursor = conn.cursor()\n",
    "\n",
    "# Create the ECommerceDB database\n",
    "cursor.execute(\"CREATE DATABASE ECommerceDB\")\n",
    "cursor.commit()\n",
    "print(\"Created ECommerceDB Successfully!\")\n",
    "# # Close the connection\n",
    "cursor.close()\n",
    "conn.close()"
   ]
  },
  {
   "cell_type": "code",
   "execution_count": 8,
   "id": "d9ce65d7",
   "metadata": {},
   "outputs": [
    {
     "name": "stdout",
     "output_type": "stream",
     "text": [
      "All tables created successfully in ECommerceDB.\n"
     ]
    }
   ],
   "source": [
    "import pyodbc\n",
    "\n",
    "# Connection parameters\n",
    "server = 'DESKTOP-89C0DB2'\n",
    "database = 'ECommerceDB'  # Connect to the ECommerceDB database\n",
    "username = ''  # Update with your username\n",
    "password = ''  # Update with your password\n",
    "driver = '{SQL Server}'\n",
    "\n",
    "# Establishing the connection to the ECommerceDB database\n",
    "conn_str = f'DRIVER={driver};SERVER={server};DATABASE={database};UID={username};PWD={password}'\n",
    "conn = pyodbc.connect(conn_str)\n",
    "cursor = conn.cursor()\n",
    "\n",
    "# Create the Categories Table first\n",
    "cursor.execute('''\n",
    "    CREATE TABLE Categories (\n",
    "        CategoryID INT PRIMARY KEY,\n",
    "        CategoryName NVARCHAR(100)\n",
    "    )\n",
    "''')\n",
    "\n",
    "# Create the Customers Table\n",
    "cursor.execute('''\n",
    "    CREATE TABLE Customers (\n",
    "        CustomerID INT PRIMARY KEY,\n",
    "        FirstName NVARCHAR(50),\n",
    "        LastName NVARCHAR(50),\n",
    "        Email NVARCHAR(100),\n",
    "        SignUpDate DATE\n",
    "    )\n",
    "''')\n",
    "\n",
    "# Create the Products Table\n",
    "cursor.execute('''\n",
    "    CREATE TABLE Products (\n",
    "        ProductID INT PRIMARY KEY,\n",
    "        ProductName NVARCHAR(100),\n",
    "        Price FLOAT,\n",
    "        StockQuantity INT,\n",
    "        CategoryID INT,\n",
    "        FOREIGN KEY(CategoryID) REFERENCES Categories(CategoryID)\n",
    "    )\n",
    "''')\n",
    "\n",
    "# Create the Regions Table\n",
    "cursor.execute('''\n",
    "    CREATE TABLE Regions (\n",
    "        RegionID INT PRIMARY KEY,\n",
    "        RegionName NVARCHAR(100)\n",
    "    )\n",
    "''')\n",
    "\n",
    "# Create the Orders Table\n",
    "cursor.execute('''\n",
    "    CREATE TABLE Orders (\n",
    "        OrderID INT PRIMARY KEY,\n",
    "        CustomerID INT,\n",
    "        OrderDate DATE,\n",
    "        TotalAmount FLOAT,\n",
    "        RegionID INT,\n",
    "        FOREIGN KEY(CustomerID) REFERENCES Customers(CustomerID),\n",
    "        FOREIGN KEY(RegionID) REFERENCES Regions(RegionID)\n",
    "    )\n",
    "''')\n",
    "\n",
    "# Create the OrderDetails Table\n",
    "cursor.execute('''\n",
    "    CREATE TABLE OrderDetails (\n",
    "        OrderDetailID INT PRIMARY KEY,\n",
    "        OrderID INT,\n",
    "        ProductID INT,\n",
    "        Quantity INT,\n",
    "        UnitPrice FLOAT,\n",
    "        FOREIGN KEY(OrderID) REFERENCES Orders(OrderID),\n",
    "        FOREIGN KEY(ProductID) REFERENCES Products(ProductID)\n",
    "    )\n",
    "''')\n",
    "\n",
    "# Create the Returns Table\n",
    "cursor.execute('''\n",
    "    CREATE TABLE Returns (\n",
    "        ReturnID INT PRIMARY KEY,\n",
    "        OrderID INT,\n",
    "        ProductID INT,\n",
    "        ReturnDate DATE,\n",
    "        QuantityReturned INT,\n",
    "        RefundAmount FLOAT,\n",
    "        FOREIGN KEY(OrderID) REFERENCES Orders(OrderID),\n",
    "        FOREIGN KEY(ProductID) REFERENCES Products(ProductID)\n",
    "    )\n",
    "''')\n",
    "\n",
    "# Create the Reviews Table\n",
    "cursor.execute('''\n",
    "    CREATE TABLE Reviews (\n",
    "        ReviewID INT PRIMARY KEY,\n",
    "        ProductID INT,\n",
    "        CustomerID INT,\n",
    "        Rating INT,\n",
    "        ReviewText NVARCHAR(MAX),\n",
    "        ReviewDate DATE,\n",
    "        FOREIGN KEY(ProductID) REFERENCES Products(ProductID),\n",
    "        FOREIGN KEY(CustomerID) REFERENCES Customers(CustomerID)\n",
    "    )\n",
    "''')\n",
    "\n",
    "# Create the ShippingAddresses Table\n",
    "cursor.execute('''\n",
    "    CREATE TABLE ShippingAddresses (\n",
    "        AddressID INT PRIMARY KEY,\n",
    "        CustomerID INT,\n",
    "        Address NVARCHAR(MAX),\n",
    "        FOREIGN KEY(CustomerID) REFERENCES Customers(CustomerID)\n",
    "    )\n",
    "''')\n",
    "\n",
    "# Commit the changes\n",
    "conn.commit()\n",
    "\n",
    "# Close the connection\n",
    "cursor.close()\n",
    "conn.close()\n",
    "\n",
    "print(\"All tables created successfully in ECommerceDB.\")\n"
   ]
  },
  {
   "cell_type": "markdown",
   "id": "e58ef1be",
   "metadata": {},
   "source": [
    "# Insert Dummy Data"
   ]
  },
  {
   "cell_type": "code",
   "execution_count": 9,
   "id": "d669aa45",
   "metadata": {},
   "outputs": [],
   "source": [
    "# !pip install faker"
   ]
  },
  {
   "cell_type": "code",
   "execution_count": 10,
   "id": "482409af",
   "metadata": {},
   "outputs": [
    {
     "name": "stdout",
     "output_type": "stream",
     "text": [
      "Dummy data inserted successfully into all tables.\n"
     ]
    }
   ],
   "source": [
    "import pyodbc\n",
    "import random\n",
    "from faker import Faker\n",
    "\n",
    "# Create a Faker instance\n",
    "fake = Faker()\n",
    "\n",
    "# Connection parameters\n",
    "server = 'DESKTOP-89C0DB2'\n",
    "database = 'ECommerceDB'\n",
    "username = ''  # Update with your username\n",
    "password = ''  # Update with your password\n",
    "driver = '{SQL Server}'\n",
    "\n",
    "# Establishing the connection to the ECommerceDB database\n",
    "conn_str = f'DRIVER={driver};SERVER={server};DATABASE={database};UID={username};PWD={password}'\n",
    "conn = pyodbc.connect(conn_str)\n",
    "cursor = conn.cursor()\n",
    "\n",
    "n = 1000  # number of dummy records to insert for each table\n",
    "\n",
    "# Inserting dummy data into Categories\n",
    "for i in range(1, n + 1):\n",
    "    cursor.execute(\"INSERT INTO Categories (CategoryID, CategoryName) VALUES (?, ?)\",\n",
    "                   i, fake.word().capitalize())\n",
    "\n",
    "# Inserting dummy data into Customers\n",
    "for i in range(1, n + 1):\n",
    "    signup_date = fake.date_between(start_date='-5y', end_date='today')\n",
    "    formatted_signup_date = signup_date.strftime('%Y-%m-%d')  # Convert to string\n",
    "    cursor.execute(\"INSERT INTO Customers (CustomerID, FirstName, LastName, Email, SignUpDate) VALUES (?, ?, ?, ?, ?)\",\n",
    "                   i, fake.first_name(), fake.last_name(), fake.email(), formatted_signup_date)\n",
    "\n",
    "# Inserting dummy data into Products\n",
    "for i in range(1, n + 1):\n",
    "    cursor.execute(\"INSERT INTO Products (ProductID, ProductName, Price, StockQuantity, CategoryID) VALUES (?, ?, ?, ?, ?)\",\n",
    "                   i, fake.word().capitalize(), random.uniform(10.0, 500.0), random.randint(0, 100), random.randint(1, n))\n",
    "\n",
    "# Inserting dummy data into Regions\n",
    "for i in range(1, n + 1):\n",
    "    cursor.execute(\"INSERT INTO Regions (RegionID, RegionName) VALUES (?, ?)\",\n",
    "                   i, fake.state())\n",
    "\n",
    "# Inserting dummy data into Orders\n",
    "for i in range(1, n + 1):\n",
    "    order_date = fake.date_between(start_date='-5y', end_date='today')\n",
    "    formatted_order_date = order_date.strftime('%Y-%m-%d')  # Convert to string\n",
    "    cursor.execute(\"INSERT INTO Orders (OrderID, CustomerID, OrderDate, TotalAmount, RegionID) VALUES (?, ?, ?, ?, ?)\",\n",
    "                   i, random.randint(1, n), formatted_order_date, random.uniform(100.0, 1000.0), random.randint(1, n))\n",
    "\n",
    "# Inserting dummy data into OrderDetails\n",
    "for i in range(1, n + 1):\n",
    "    cursor.execute(\"INSERT INTO OrderDetails (OrderDetailID, OrderID, ProductID, Quantity, UnitPrice) VALUES (?, ?, ?, ?, ?)\",\n",
    "                   i, random.randint(1, n), random.randint(1, n), random.randint(1, 10), random.uniform(10.0, 500.0))\n",
    "\n",
    "# Inserting dummy data into Returns\n",
    "for i in range(1, n + 1):\n",
    "    return_date = fake.date_between(start_date='-5y', end_date='today')\n",
    "    formatted_return_date = return_date.strftime('%Y-%m-%d')  # Convert to string\n",
    "    cursor.execute(\"INSERT INTO Returns (ReturnID, OrderID, ProductID, ReturnDate, QuantityReturned, RefundAmount) VALUES (?, ?, ?, ?, ?, ?)\",\n",
    "                   i, random.randint(1, n), random.randint(1, n), formatted_return_date, random.randint(1, 5), random.uniform(10.0, 500.0))\n",
    "\n",
    "# Inserting dummy data into Reviews\n",
    "for i in range(1, n + 1):\n",
    "    review_date = fake.date_between(start_date='-5y', end_date='today')\n",
    "    formatted_review_date = review_date.strftime('%Y-%m-%d')  # Convert to string\n",
    "    cursor.execute(\"INSERT INTO Reviews (ReviewID, ProductID, CustomerID, Rating, ReviewText, ReviewDate) VALUES (?, ?, ?, ?, ?, ?)\",\n",
    "                   i, random.randint(1, n), random.randint(1, n), random.randint(1, 5), fake.text(max_nb_chars=200), formatted_review_date)\n",
    "\n",
    "# Inserting dummy data into ShippingAddresses\n",
    "for i in range(1, n + 1):\n",
    "    cursor.execute(\"INSERT INTO ShippingAddresses (AddressID, CustomerID, Address) VALUES (?, ?, ?)\",\n",
    "                   i, random.randint(1, n), fake.address())\n",
    "\n",
    "# Commit the changes\n",
    "conn.commit()\n",
    "\n",
    "# Close the connection\n",
    "cursor.close()\n",
    "conn.close()\n",
    "\n",
    "print(\"Dummy data inserted successfully into all tables.\")\n"
   ]
  },
  {
   "cell_type": "markdown",
   "id": "58d3bdbc",
   "metadata": {},
   "source": [
    "# View Data From the DB"
   ]
  },
  {
   "cell_type": "code",
   "execution_count": 11,
   "id": "3a04ff62",
   "metadata": {},
   "outputs": [
    {
     "name": "stdout",
     "output_type": "stream",
     "text": [
      "     CustomerID FirstName  LastName                          Email  SignUpDate\n",
      "0             1   Yolanda     Yoder           steven23@example.net  2021-05-25\n",
      "1             2       Joe     Clark  simmonsalexandria@example.org  2019-09-17\n",
      "2             3   Kristin     Doyle      paynekimberly@example.com  2022-02-24\n",
      "3             4     Bryan    Rogers     jacksonshelley@example.com  2023-03-24\n",
      "4             5    Joseph    Wilcox             wirwin@example.org  2023-07-14\n",
      "..          ...       ...       ...                            ...         ...\n",
      "995         996      Brad   Fleming        drichardson@example.net  2020-05-06\n",
      "996         997   Shannon  Williams       torresbianca@example.org  2021-02-10\n",
      "997         998       Amy    Thomas         mossadrian@example.com  2019-12-20\n",
      "998         999    Samuel    Miller          olsonlisa@example.org  2023-02-19\n",
      "999        1000    Edward    Watson         jennifer86@example.org  2021-07-31\n",
      "\n",
      "[1000 rows x 5 columns]\n"
     ]
    }
   ],
   "source": [
    "import pyodbc\n",
    "import pandas as pd\n",
    "\n",
    "def read_table_as_dataframe(table_name):\n",
    "    # Connection parameters\n",
    "    server = 'DESKTOP-89C0DB2'\n",
    "    database = 'ECommerceDB'\n",
    "    username = ''  # Update with your username\n",
    "    password = ''  # Update with your password\n",
    "    driver = '{SQL Server}'\n",
    "\n",
    "    # Establishing the connection to the ECommerceDB database\n",
    "    conn_str = f'DRIVER={driver};SERVER={server};DATABASE={database};UID={username};PWD={password}'\n",
    "    conn = pyodbc.connect(conn_str)\n",
    "\n",
    "    # Query to read the table\n",
    "    query = f\"SELECT * FROM {table_name}\"\n",
    "    \n",
    "    # Reading the table into a Pandas DataFrame\n",
    "    df = pd.read_sql(query, conn)\n",
    "\n",
    "    # Close the connection\n",
    "    conn.close()\n",
    "\n",
    "    return df\n",
    "\n",
    "# Example usage:\n",
    "table_name = 'Customers'  # Replace with the name of the table you want to display\n",
    "df = read_table_as_dataframe(table_name)\n",
    "print(df)\n"
   ]
  },
  {
   "cell_type": "code",
   "execution_count": null,
   "id": "950f35b9",
   "metadata": {},
   "outputs": [],
   "source": []
  },
  {
   "cell_type": "code",
   "execution_count": null,
   "id": "d2d402b2",
   "metadata": {},
   "outputs": [],
   "source": []
  }
 ],
 "metadata": {
  "kernelspec": {
   "display_name": "Python 3 (ipykernel)",
   "language": "python",
   "name": "python3"
  },
  "language_info": {
   "codemirror_mode": {
    "name": "ipython",
    "version": 3
   },
   "file_extension": ".py",
   "mimetype": "text/x-python",
   "name": "python",
   "nbconvert_exporter": "python",
   "pygments_lexer": "ipython3",
   "version": "3.11.5"
  }
 },
 "nbformat": 4,
 "nbformat_minor": 5
}
